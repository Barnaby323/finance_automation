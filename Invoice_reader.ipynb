{
 "cells": [
  {
   "cell_type": "markdown",
   "id": "c4a16afd",
   "metadata": {},
   "source": [
    "# Approach V1"
   ]
  },
  {
   "cell_type": "code",
   "execution_count": 11,
   "id": "4b8fc61b",
   "metadata": {},
   "outputs": [],
   "source": [
    "from pdfminer.pdfinterp import PDFResourceManager, PDFPageInterpreter\n",
    "from pdfminer.converter import TextConverter\n",
    "from pdfminer.layout import LAParams\n",
    "from pdfminer.pdfpage import PDFPage\n",
    "from io import StringIO\n",
    "\n",
    "def convert_pdf_to_txt(path):\n",
    "    rsrcmgr = PDFResourceManager()\n",
    "    retstr = StringIO()\n",
    "    codec = 'utf-8'\n",
    "    laparams = LAParams()\n",
    "    device = TextConverter(rsrcmgr, retstr, laparams=laparams)\n",
    "    fp = open(path, 'rb')\n",
    "    interpreter = PDFPageInterpreter(rsrcmgr, device)\n",
    "    password = \"\"\n",
    "    maxpages = 0\n",
    "    caching = True\n",
    "    pagenos=set()\n",
    "\n",
    "    for page in PDFPage.get_pages(fp, pagenos, maxpages=maxpages, password=password,caching=caching, check_extractable=True):\n",
    "        interpreter.process_page(page)\n",
    "\n",
    "    text = retstr.getvalue()\n",
    "\n",
    "    fp.close()\n",
    "    device.close()\n",
    "    retstr.close()\n",
    "    return text"
   ]
  },
  {
   "cell_type": "code",
   "execution_count": 5,
   "id": "2894d93e",
   "metadata": {},
   "outputs": [],
   "source": [
    "path = !pwd"
   ]
  },
  {
   "cell_type": "code",
   "execution_count": 6,
   "id": "fc2c4729",
   "metadata": {},
   "outputs": [
    {
     "data": {
      "text/plain": [
       "['/Users/barnabykempster/code/Barnaby323/finance_automation']"
      ]
     },
     "execution_count": 6,
     "metadata": {},
     "output_type": "execute_result"
    }
   ],
   "source": [
    "path"
   ]
  },
  {
   "cell_type": "code",
   "execution_count": 13,
   "id": "e0a06c69",
   "metadata": {},
   "outputs": [],
   "source": [
    "path[0] = '/Users/barnabykempster/code/Barnaby323/finance_automation/sample-invoice.pdf'"
   ]
  },
  {
   "cell_type": "code",
   "execution_count": 14,
   "id": "e905e20b",
   "metadata": {},
   "outputs": [
    {
     "data": {
      "text/plain": [
       "['/Users/barnabykempster/code/Barnaby323/finance_automation/sample-invoice.pdf']"
      ]
     },
     "execution_count": 14,
     "metadata": {},
     "output_type": "execute_result"
    }
   ],
   "source": [
    "path"
   ]
  },
  {
   "cell_type": "code",
   "execution_count": 15,
   "id": "9ae79f32",
   "metadata": {},
   "outputs": [],
   "source": [
    "inv_data_1 = convert_pdf_to_txt(path[0])"
   ]
  },
  {
   "cell_type": "code",
   "execution_count": 16,
   "id": "152c01f0",
   "metadata": {},
   "outputs": [
    {
     "data": {
      "text/plain": [
       "'CPB Software (Germany) GmbH - Im Bruch 3 - 63897 Miltenberg/Main\\n\\nMusterkunde AG\\nMr. John Doe\\nMusterstr. 23\\n12345 Musterstadt\\n\\nName:  Stefanie Müller\\n\\nPhone: +49 9371 9786-0\\n\\nInvoice WMACCESS Internet\\n\\nVAT No. DE199378386\\n\\nInvoice No\\n\\n123100401\\n\\nCustomer No\\n\\nInvoice Period\\n\\nDate\\n\\n12345\\n\\n01.02.2024 - 29.02.2024\\n\\n1. März 2024\\n\\nService Description\\n\\nBasic Fee wmView\\n\\nBasis fee for additional user accounts\\n\\nBasic Fee wmPos\\n\\nBasic Fee wmGuide\\n\\nChange of user accounts\\n\\nTransaction Fee T1\\n\\nTransaction Fee T2\\n\\nTransaction Fee T3\\n\\nTransaction Fee T4\\n\\nTransaction Fee T5\\n\\nTransaction Fee T6\\n\\nTransaction Fee G1\\n\\nTransaction Fee G2\\n\\nTransaction Fee G3\\n\\nTransaction Fee G4\\n\\nTransaction Fee G5\\n\\nTransaction Fee G6\\n\\nAmount\\n\\n-without VAT-\\n\\n130,00 €\\n\\n10,00 €\\n\\n50,00 €\\n\\n1.000,00 €\\n\\n10,00 €\\n\\n0,58 €\\n\\n0,70 €\\n\\n1,50 €\\n\\n0,50 €\\n\\n0,80 €\\n\\n1,80 €\\n\\n0,30 €\\n\\n0,30 €\\n\\n0,40 €\\n\\n0,40 €\\n\\n0,30 €\\n\\n0,30 €\\n\\nTotal\\n\\nVAT 19 %\\n\\nGross Amount incl. VAT\\n\\nquantity\\n\\nTotal Amount\\n\\n1\\n\\n0\\n\\n0\\n\\n0\\n\\n0\\n\\n14\\n\\n0\\n\\n162\\n\\n0\\n\\n0\\n\\n0\\n\\n0\\n\\n0\\n\\n0\\n\\n0\\n\\n0\\n\\n0\\n\\n130,00 €\\n\\n0,00 €\\n\\n0,00 €\\n\\n0,00 €\\n\\n0,00 €\\n\\n8,12 €\\n\\n0,00 €\\n\\n243,00 €\\n\\n0,00 €\\n\\n0,00 €\\n\\n0,00 €\\n\\n0,00 €\\n\\n0,00 €\\n\\n0,00 €\\n\\n0,00 €\\n\\n0,00 €\\n\\n0,00 €\\n\\n381,12 €\\n\\n72,41 €\\n\\n453,53 €\\n\\nTerms of Payment: Immediate payment without discount. Any bank charges must be paid by the invoice recipient.\\n\\nBank fees at our expense will be charged to the invoice recipient!\\n\\nPlease credit the amount invoiced to IBAN DE29 1234 5678 9012 3456 78 | BIC GENODE51MIC (SEPA Credit Transfer)\\n\\nThis invoice is generated automatically and will not be signed\\n\\n\\x0cInvoice Details\\n\\nPeriod:        01.02.2024        to        29.02.2024\\n\\nUnit:        Musterkunde AG                                                            12345\\n\\nRequest sections:\\n\\nAmount in Euro:\\n\\nT1:\\n\\nT2:\\n\\nT3:\\n\\nT4:\\n\\nT5:\\n\\nT6:\\n\\nG1:\\n\\nG2:\\n\\nG3:\\n\\nG4:\\n\\nG5:\\n\\nG6:\\n\\n0,58\\n\\n0,70\\n\\n1,50\\n\\n0,50\\n\\n0,80\\n\\n1,80\\n\\n0,30\\n\\n0,30\\n\\n0,40\\n\\n0,40\\n\\n0,30\\n\\n0,30\\n\\nuser-account-1\\nuser-account-2\\n\\n10\\n\\n4\\n\\n0\\n\\n0\\n\\n99\\n\\n63\\n\\n0\\n\\n0\\n\\n0\\n\\n0\\n\\n0\\n\\n0\\n\\n0\\n\\n0\\n\\n0\\n\\n0\\n\\n0\\n\\n0\\n\\n0\\n\\n0\\n\\n0\\n\\n0\\n\\nTransaction Fee Seg\\n\\nT1:\\n\\nT2:\\n\\nT3:\\n\\nT4:\\n\\nT5:\\n\\nT6:\\n\\nG1:\\n\\nG2:\\n\\nG3:\\n\\nG4:\\n\\nG5:\\n\\nG6:\\n\\n154,30 €\\n\\n96,82 €\\n\\n0\\n\\n0\\n\\n0\\n\\nQueries in Total:\\n\\nTotal in Euro:\\n\\n14\\n\\n0\\n\\n162\\n\\n0\\n\\n0\\n\\n0\\n\\n0\\n\\n0\\n\\n0\\n\\n0\\n\\n0\\n\\n8,12 €\\n\\n0,00 € 243,00 €\\n\\n0,00 €\\n\\n0,00 €\\n\\n0,00 €\\n\\n0,00 €\\n\\n0,00 €\\n\\n0,00 €\\n\\n0,00 €\\n\\n0,00 €\\n\\n0,00 €\\n\\n251,12 €\\n\\nThe explanation of the query fee categories (T1 to T6 and G1 to G6) can be found on our website:\\nhttps://www.wmaccess.com/abfragekategorien\\n\\n\\x0cInvoice Details for wmView Query Reference\\n\\nPeriod:        01.02.2024        to        29.02.2024\\n\\nUnit:        Musterkunde AG                                                            12345\\n\\nQuery Reference:\\n\\nwmview, wmProfile and User Profiles Query Segments:\\n\\nT1:\\n\\nT2:\\n\\nT3:\\n\\nT4:\\n\\nT5:\\n\\nT6:\\n\\n*Not specified*\\n\\nAZR/31/27439\\n\\nCCL/3715\\n\\nCRS/28432\\n\\nCs/52113\\n\\nGS 32090\\n\\nKpi/22695\\n\\nPG 7772\\n\\nRjn/11138\\n\\nSF-M 596/99-08\\n\\nTtrb/17885\\n\\nWPN:24791\\n\\nWwt/15658\\n\\n4\\n\\n0\\n\\n0\\n\\n5\\n\\n0\\n\\n1\\n\\n2\\n\\n0\\n\\n0\\n\\n0\\n\\n1\\n\\n1\\n\\n0\\n\\n0\\n\\n0\\n\\n0\\n\\n0\\n\\n0\\n\\n0\\n\\n0\\n\\n0\\n\\n0\\n\\n0\\n\\n0\\n\\n0\\n\\n0\\n\\n9\\n\\n12\\n\\n4\\n\\n36\\n\\n19\\n\\n7\\n\\n6\\n\\n11\\n\\n15\\n\\n5\\n\\n23\\n\\n4\\n\\n11\\n\\n0\\n\\n0\\n\\n0\\n\\n0\\n\\n0\\n\\n0\\n\\n0\\n\\n0\\n\\n0\\n\\n0\\n\\n0\\n\\n0\\n\\n0\\n\\n0\\n\\n0\\n\\n0\\n\\n0\\n\\n0\\n\\n0\\n\\n0\\n\\n0\\n\\n0\\n\\n0\\n\\n0\\n\\n0\\n\\n0\\n\\n0\\n\\n0\\n\\n0\\n\\n0\\n\\n0\\n\\n0\\n\\n0\\n\\n0\\n\\n0\\n\\n0\\n\\n0\\n\\n0\\n\\n0\\n\\nPrice for each Query in Euro:\\n\\n0,58\\n\\n0,70\\n\\n1,50\\n\\n0,50\\n\\n0,80\\n\\n1,80\\n\\n15,82 €\\n\\n18,00 €\\n\\n6,00 €\\n\\n56,90 €\\n\\n28,50 €\\n\\n11,08 €\\n\\n10,16 €\\n\\n16,50 €\\n\\n22,50 €\\n\\n7,50 €\\n\\n35,08 €\\n\\n6,58 €\\n\\n16,50 €\\n\\n\\x0c'"
      ]
     },
     "execution_count": 16,
     "metadata": {},
     "output_type": "execute_result"
    }
   ],
   "source": [
    "inv_data_1"
   ]
  },
  {
   "cell_type": "code",
   "execution_count": 17,
   "id": "6601d930",
   "metadata": {},
   "outputs": [
    {
     "data": {
      "text/plain": [
       "str"
      ]
     },
     "execution_count": 17,
     "metadata": {},
     "output_type": "execute_result"
    }
   ],
   "source": [
    "type(inv_data_1)"
   ]
  },
  {
   "cell_type": "markdown",
   "id": "146086bf",
   "metadata": {},
   "source": [
    "# Approach V2"
   ]
  },
  {
   "cell_type": "code",
   "execution_count": 19,
   "id": "0b396095",
   "metadata": {},
   "outputs": [
    {
     "name": "stdout",
     "output_type": "stream",
     "text": [
      "Processing /Users/barnabykempster/code/Barnaby323/finance_automation/sample-invoice.pdf...\n",
      "[                                        ] (0/3============[=============                           ] (1/============[==========================              ] (2/3=============[========================================] (3/3]\n"
     ]
    }
   ],
   "source": [
    "import pymupdf4llm\n",
    "\n",
    "md_text = pymupdf4llm.to_markdown(path[0])\n"
   ]
  },
  {
   "cell_type": "code",
   "execution_count": 20,
   "id": "264cac20",
   "metadata": {},
   "outputs": [
    {
     "data": {
      "text/plain": [
       "'CPB Software (Germany) GmbH - Im Bruch 3 - 63897 Miltenberg/Main\\n\\n### Musterkunde AG Mr. John Doe Musterstr. 23 12345 Musterstadt Name: Stefanie Müller\\n\\nPhone: +49 9371 9786-0\\n\\n### Invoice WMACCESS Internet\\n\\n**VAT No. DE199378386**\\n\\n### Invoice No Customer No Invoice Period\\n\\n#### 123100401 12345 01.02.2024 - 29.02.2024\\n\\n**Amount**\\n\\n**Service Description** **quantity**\\n\\n**-without VAT-**\\n\\nBasic Fee wmView 130,00 € 1\\n\\nBasis fee for additional user accounts 10,00 € 0\\n\\nBasic Fee wmPos 50,00 € 0\\n\\nBasic Fee wmGuide 1.000,00 € 0\\n\\nChange of user accounts 10,00 € 0\\n\\nTransaction Fee T1 0,58 € 14\\n\\nTransaction Fee T2 0,70 € 0\\n\\nTransaction Fee T3 1,50 € 162\\n\\nTransaction Fee T4 0,50 € 0\\n\\nTransaction Fee T5 0,80 € 0\\n\\nTransaction Fee T6 1,80 € 0\\n\\nTransaction Fee G1 0,30 € 0\\n\\nTransaction Fee G2 0,30 € 0\\n\\nTransaction Fee G3 0,40 € 0\\n\\nTransaction Fee G4 0,40 € 0\\n\\nTransaction Fee G5 0,30 € 0\\n\\nTransaction Fee G6 0,30 € 0\\n\\n**Total**\\n\\n**VAT 19 %**\\n\\n**Gross Amount incl. VAT**\\n\\nTerms of Payment: Immediate payment without discount. Any bank charges must be paid by the invoice recipient.\\n\\nBank fees at our expense will be charged to the invoice recipient!\\n\\nPlease credit the amount invoiced to IBAN DE29 1234 5678 9012 3456 78 | BIC GENODE51MIC (SEPA Credit Transfer)\\n\\nThis invoice is generated automatically and will not be signed\\n\\n|VAT No. DE199378386|Col2|Col3|Col4|\\n|---|---|---|---|\\n|Invoice No|Customer No|Invoice Period|Date|\\n|123100401|12345|01.02.2024 - 29.02.2024|1. März 2024|\\n\\n|Service Description|Amount -without VAT-|quantity|Total Amount|\\n|---|---|---|---|\\n|Basic Fee wmView|130,00 €|1|130,00 €|\\n|Basis fee for additional user accounts|10,00 €|0|0,00 €|\\n|Basic Fee wmPos|50,00 €|0|0,00 €|\\n|Basic Fee wmGuide|1.000,00 €|0|0,00 €|\\n|Change of user accounts|10,00 €|0|0,00 €|\\n|Transaction Fee T1|0,58 €|14|8,12 €|\\n|Transaction Fee T2|0,70 €|0|0,00 €|\\n|Transaction Fee T3|1,50 €|162|243,00 €|\\n|Transaction Fee T4|0,50 €|0|0,00 €|\\n|Transaction Fee T5|0,80 €|0|0,00 €|\\n|Transaction Fee T6|1,80 €|0|0,00 €|\\n|Transaction Fee G1|0,30 €|0|0,00 €|\\n|Transaction Fee G2|0,30 €|0|0,00 €|\\n|Transaction Fee G3|0,40 €|0|0,00 €|\\n|Transaction Fee G4|0,40 €|0|0,00 €|\\n|Transaction Fee G5|0,30 €|0|0,00 €|\\n|Transaction Fee G6|0,30 €|0|0,00 €|\\n||Total||381,12 €|\\n||VAT 19 %||72,41 €|\\n||Gross Amount incl. VAT||453,53 €|\\n\\n\\n-----\\n\\n# Invoice Details\\n\\n## Period:    01.02.2024    to    29.02.2024\\n\\n Unit:    Musterkunde AG                              12345\\n\\nRequest sections: T1: T2: T3: T4: T5: T6: G1: G2: G3: G4:\\nAmount in Euro: 0,58 0,70 1,50 0,50 0,80 1,80 0,30 0,30 0,40 0,40\\n\\n**user-account-1** 10 0 99 0 0 0 0 0 0 0\\n**user-account-2** 4 0 63 0 0 0 0 0 0 0\\n\\nTransaction Fee Seg T1: T2: T3: T4: T5: T6: G1: G2: G3: G4:\\nQueries in Total: 14 0 162 0 0 0 0 0 0 0\\nTotal in Euro: 8,12 € 0,00 € 243,00 € 0,00 € 0,00 € 0,00 € 0,00 € 0,00 € 0,00 € 0,00 €\\n\\n_The explanation of the query fee categories (T1 to T6 and G1 to G6) can be found on our website:_\\n_https://www.wmaccess.com/abfragekategorien_\\n\\n|Request sections:|T1:|T2:|T3:|T4:|T5:|T6:|G1:|G2:|G3:|G4:|G5:|G6:|\\n|---|---|---|---|---|---|---|---|---|---|---|---|---|\\n|Amount in Euro:|0,58|0,70|1,50|0,50|0,80|1,80|0,30|0,30|0,40|0,40|0,30|0,30|\\n\\n|user-account-1|10|0|99|0|0|0|0|0|0|0|0|0|154,30 €|\\n|---|---|---|---|---|---|---|---|---|---|---|---|---|---|\\n|user-account-2|4|0|63|0|0|0|0|0|0|0|0|0|96,82 €|\\n\\n|Transaction Fee Seg|T1:|T2:|T3:|T4:|T5:|T6:|G1:|G2:|G3:|G4:|G5:|G6:|Col14|\\n|---|---|---|---|---|---|---|---|---|---|---|---|---|---|\\n|Queries in Total:|14|0|162|0|0|0|0|0|0|0|0|0||\\n|Total in Euro:|8,12 €|0,00 €|243,00 €|0,00 €|0,00 €|0,00 €|0,00 €|0,00 €|0,00 €|0,00 €|0,00 €|0,00 €|251,12 €|\\n\\n\\n-----\\n\\n# Invoice Details for wmView Query Reference\\n\\n## Period:    01.02.2024    to    29.02.2024\\n\\n Unit:    Musterkunde AG                              12345\\n\\nwmview, wmProfile and User Profiles Query Segments:\\n\\n### Query Reference: T1: T2: T3: T4: T5: T6:\\n\\n*Not specified* 4 0 9 0 0 0 15,82 €\\n\\nAZR/31/27439 0 0 12 0 0 0 18,00 €\\n\\nCCL/3715 0 0 4 0 0 0 6,00 €\\n\\nCRS/28432 5 0 36 0 0 0 56,90 €\\n\\nCs/52113 0 0 19 0 0 0 28,50 €\\n\\nGS 32090 1 0 7 0 0 0 11,08 €\\n\\nKpi/22695 2 0 6 0 0 0 10,16 €\\n\\nPG 7772 0 0 11 0 0 0 16,50 €\\n\\nRjn/11138 0 0 15 0 0 0 22,50 €\\n\\nSF-M 596/99-08 0 0 5 0 0 0 7,50 €\\n\\nTtrb/17885 1 0 23 0 0 0 35,08 €\\n\\nWPN:24791 1 0 4 0 0 0 6,58 €\\n\\n|wmview, wmProfile and User Profiles Query Segments:|Col2|Col3|Col4|Col5|Col6|\\n|---|---|---|---|---|---|\\n|T1:|T2:|T3:|T4:|T5:|T6:|\\n\\n|4|0|9|0|0|0|15,82 €|\\n|---|---|---|---|---|---|---|\\n|0|0|12|0|0|0|18,00 €|\\n|0|0|4|0|0|0|6,00 €|\\n|5|0|36|0|0|0|56,90 €|\\n|0|0|19|0|0|0|28,50 €|\\n|1|0|7|0|0|0|11,08 €|\\n|2|0|6|0|0|0|10,16 €|\\n|0|0|11|0|0|0|16,50 €|\\n|0|0|15|0|0|0|22,50 €|\\n|0|0|5|0|0|0|7,50 €|\\n|1|0|23|0|0|0|35,08 €|\\n|1|0|4|0|0|0|6,58 €|\\n|0|0|11|0|0|0|16,50 €|\\n\\n|Price for each Query in Euro:|Col2|Col3|Col4|Col5|Col6|\\n|---|---|---|---|---|---|\\n|0,58|0,70|1,50|0,50|0,80|1,80|\\n\\n\\n-----\\n\\n'"
      ]
     },
     "execution_count": 20,
     "metadata": {},
     "output_type": "execute_result"
    }
   ],
   "source": [
    "md_text"
   ]
  },
  {
   "cell_type": "code",
   "execution_count": 21,
   "id": "79b65f57",
   "metadata": {},
   "outputs": [
    {
     "data": {
      "text/plain": [
       "'C'"
      ]
     },
     "execution_count": 21,
     "metadata": {},
     "output_type": "execute_result"
    }
   ],
   "source": [
    "md_text[0]"
   ]
  },
  {
   "cell_type": "code",
   "execution_count": 22,
   "id": "bd677c24",
   "metadata": {},
   "outputs": [],
   "source": [
    "import string"
   ]
  },
  {
   "cell_type": "code",
   "execution_count": 27,
   "id": "48a5d849",
   "metadata": {},
   "outputs": [],
   "source": [
    "md_text_list = md_text.split(\"\\n\")"
   ]
  },
  {
   "cell_type": "code",
   "execution_count": 28,
   "id": "13f12780",
   "metadata": {},
   "outputs": [
    {
     "data": {
      "text/plain": [
       "['CPB Software (Germany) GmbH - Im Bruch 3 - 63897 Miltenberg/Main',\n",
       " '',\n",
       " '### Musterkunde AG Mr. John Doe Musterstr. 23 12345 Musterstadt Name: Stefanie Müller',\n",
       " '',\n",
       " 'Phone: +49 9371 9786-0',\n",
       " '',\n",
       " '### Invoice WMACCESS Internet',\n",
       " '',\n",
       " '**VAT No. DE199378386**',\n",
       " '',\n",
       " '### Invoice No Customer No Invoice Period',\n",
       " '',\n",
       " '#### 123100401 12345 01.02.2024 - 29.02.2024',\n",
       " '',\n",
       " '**Amount**',\n",
       " '',\n",
       " '**Service Description** **quantity**',\n",
       " '',\n",
       " '**-without VAT-**',\n",
       " '',\n",
       " 'Basic Fee wmView 130,00 € 1',\n",
       " '',\n",
       " 'Basis fee for additional user accounts 10,00 € 0',\n",
       " '',\n",
       " 'Basic Fee wmPos 50,00 € 0',\n",
       " '',\n",
       " 'Basic Fee wmGuide 1.000,00 € 0',\n",
       " '',\n",
       " 'Change of user accounts 10,00 € 0',\n",
       " '',\n",
       " 'Transaction Fee T1 0,58 € 14',\n",
       " '',\n",
       " 'Transaction Fee T2 0,70 € 0',\n",
       " '',\n",
       " 'Transaction Fee T3 1,50 € 162',\n",
       " '',\n",
       " 'Transaction Fee T4 0,50 € 0',\n",
       " '',\n",
       " 'Transaction Fee T5 0,80 € 0',\n",
       " '',\n",
       " 'Transaction Fee T6 1,80 € 0',\n",
       " '',\n",
       " 'Transaction Fee G1 0,30 € 0',\n",
       " '',\n",
       " 'Transaction Fee G2 0,30 € 0',\n",
       " '',\n",
       " 'Transaction Fee G3 0,40 € 0',\n",
       " '',\n",
       " 'Transaction Fee G4 0,40 € 0',\n",
       " '',\n",
       " 'Transaction Fee G5 0,30 € 0',\n",
       " '',\n",
       " 'Transaction Fee G6 0,30 € 0',\n",
       " '',\n",
       " '**Total**',\n",
       " '',\n",
       " '**VAT 19 %**',\n",
       " '',\n",
       " '**Gross Amount incl. VAT**',\n",
       " '',\n",
       " 'Terms of Payment: Immediate payment without discount. Any bank charges must be paid by the invoice recipient.',\n",
       " '',\n",
       " 'Bank fees at our expense will be charged to the invoice recipient!',\n",
       " '',\n",
       " 'Please credit the amount invoiced to IBAN DE29 1234 5678 9012 3456 78 | BIC GENODE51MIC (SEPA Credit Transfer)',\n",
       " '',\n",
       " 'This invoice is generated automatically and will not be signed',\n",
       " '',\n",
       " '|VAT No. DE199378386|Col2|Col3|Col4|',\n",
       " '|---|---|---|---|',\n",
       " '|Invoice No|Customer No|Invoice Period|Date|',\n",
       " '|123100401|12345|01.02.2024 - 29.02.2024|1. März 2024|',\n",
       " '',\n",
       " '|Service Description|Amount -without VAT-|quantity|Total Amount|',\n",
       " '|---|---|---|---|',\n",
       " '|Basic Fee wmView|130,00 €|1|130,00 €|',\n",
       " '|Basis fee for additional user accounts|10,00 €|0|0,00 €|',\n",
       " '|Basic Fee wmPos|50,00 €|0|0,00 €|',\n",
       " '|Basic Fee wmGuide|1.000,00 €|0|0,00 €|',\n",
       " '|Change of user accounts|10,00 €|0|0,00 €|',\n",
       " '|Transaction Fee T1|0,58 €|14|8,12 €|',\n",
       " '|Transaction Fee T2|0,70 €|0|0,00 €|',\n",
       " '|Transaction Fee T3|1,50 €|162|243,00 €|',\n",
       " '|Transaction Fee T4|0,50 €|0|0,00 €|',\n",
       " '|Transaction Fee T5|0,80 €|0|0,00 €|',\n",
       " '|Transaction Fee T6|1,80 €|0|0,00 €|',\n",
       " '|Transaction Fee G1|0,30 €|0|0,00 €|',\n",
       " '|Transaction Fee G2|0,30 €|0|0,00 €|',\n",
       " '|Transaction Fee G3|0,40 €|0|0,00 €|',\n",
       " '|Transaction Fee G4|0,40 €|0|0,00 €|',\n",
       " '|Transaction Fee G5|0,30 €|0|0,00 €|',\n",
       " '|Transaction Fee G6|0,30 €|0|0,00 €|',\n",
       " '||Total||381,12 €|',\n",
       " '||VAT 19 %||72,41 €|',\n",
       " '||Gross Amount incl. VAT||453,53 €|',\n",
       " '',\n",
       " '',\n",
       " '-----',\n",
       " '',\n",
       " '# Invoice Details',\n",
       " '',\n",
       " '## Period:    01.02.2024    to    29.02.2024',\n",
       " '',\n",
       " ' Unit:    Musterkunde AG                              12345',\n",
       " '',\n",
       " 'Request sections: T1: T2: T3: T4: T5: T6: G1: G2: G3: G4:',\n",
       " 'Amount in Euro: 0,58 0,70 1,50 0,50 0,80 1,80 0,30 0,30 0,40 0,40',\n",
       " '',\n",
       " '**user-account-1** 10 0 99 0 0 0 0 0 0 0',\n",
       " '**user-account-2** 4 0 63 0 0 0 0 0 0 0',\n",
       " '',\n",
       " 'Transaction Fee Seg T1: T2: T3: T4: T5: T6: G1: G2: G3: G4:',\n",
       " 'Queries in Total: 14 0 162 0 0 0 0 0 0 0',\n",
       " 'Total in Euro: 8,12 € 0,00 € 243,00 € 0,00 € 0,00 € 0,00 € 0,00 € 0,00 € 0,00 € 0,00 €',\n",
       " '',\n",
       " '_The explanation of the query fee categories (T1 to T6 and G1 to G6) can be found on our website:_',\n",
       " '_https://www.wmaccess.com/abfragekategorien_',\n",
       " '',\n",
       " '|Request sections:|T1:|T2:|T3:|T4:|T5:|T6:|G1:|G2:|G3:|G4:|G5:|G6:|',\n",
       " '|---|---|---|---|---|---|---|---|---|---|---|---|---|',\n",
       " '|Amount in Euro:|0,58|0,70|1,50|0,50|0,80|1,80|0,30|0,30|0,40|0,40|0,30|0,30|',\n",
       " '',\n",
       " '|user-account-1|10|0|99|0|0|0|0|0|0|0|0|0|154,30 €|',\n",
       " '|---|---|---|---|---|---|---|---|---|---|---|---|---|---|',\n",
       " '|user-account-2|4|0|63|0|0|0|0|0|0|0|0|0|96,82 €|',\n",
       " '',\n",
       " '|Transaction Fee Seg|T1:|T2:|T3:|T4:|T5:|T6:|G1:|G2:|G3:|G4:|G5:|G6:|Col14|',\n",
       " '|---|---|---|---|---|---|---|---|---|---|---|---|---|---|',\n",
       " '|Queries in Total:|14|0|162|0|0|0|0|0|0|0|0|0||',\n",
       " '|Total in Euro:|8,12 €|0,00 €|243,00 €|0,00 €|0,00 €|0,00 €|0,00 €|0,00 €|0,00 €|0,00 €|0,00 €|0,00 €|251,12 €|',\n",
       " '',\n",
       " '',\n",
       " '-----',\n",
       " '',\n",
       " '# Invoice Details for wmView Query Reference',\n",
       " '',\n",
       " '## Period:    01.02.2024    to    29.02.2024',\n",
       " '',\n",
       " ' Unit:    Musterkunde AG                              12345',\n",
       " '',\n",
       " 'wmview, wmProfile and User Profiles Query Segments:',\n",
       " '',\n",
       " '### Query Reference: T1: T2: T3: T4: T5: T6:',\n",
       " '',\n",
       " '*Not specified* 4 0 9 0 0 0 15,82 €',\n",
       " '',\n",
       " 'AZR/31/27439 0 0 12 0 0 0 18,00 €',\n",
       " '',\n",
       " 'CCL/3715 0 0 4 0 0 0 6,00 €',\n",
       " '',\n",
       " 'CRS/28432 5 0 36 0 0 0 56,90 €',\n",
       " '',\n",
       " 'Cs/52113 0 0 19 0 0 0 28,50 €',\n",
       " '',\n",
       " 'GS 32090 1 0 7 0 0 0 11,08 €',\n",
       " '',\n",
       " 'Kpi/22695 2 0 6 0 0 0 10,16 €',\n",
       " '',\n",
       " 'PG 7772 0 0 11 0 0 0 16,50 €',\n",
       " '',\n",
       " 'Rjn/11138 0 0 15 0 0 0 22,50 €',\n",
       " '',\n",
       " 'SF-M 596/99-08 0 0 5 0 0 0 7,50 €',\n",
       " '',\n",
       " 'Ttrb/17885 1 0 23 0 0 0 35,08 €',\n",
       " '',\n",
       " 'WPN:24791 1 0 4 0 0 0 6,58 €',\n",
       " '',\n",
       " '|wmview, wmProfile and User Profiles Query Segments:|Col2|Col3|Col4|Col5|Col6|',\n",
       " '|---|---|---|---|---|---|',\n",
       " '|T1:|T2:|T3:|T4:|T5:|T6:|',\n",
       " '',\n",
       " '|4|0|9|0|0|0|15,82 €|',\n",
       " '|---|---|---|---|---|---|---|',\n",
       " '|0|0|12|0|0|0|18,00 €|',\n",
       " '|0|0|4|0|0|0|6,00 €|',\n",
       " '|5|0|36|0|0|0|56,90 €|',\n",
       " '|0|0|19|0|0|0|28,50 €|',\n",
       " '|1|0|7|0|0|0|11,08 €|',\n",
       " '|2|0|6|0|0|0|10,16 €|',\n",
       " '|0|0|11|0|0|0|16,50 €|',\n",
       " '|0|0|15|0|0|0|22,50 €|',\n",
       " '|0|0|5|0|0|0|7,50 €|',\n",
       " '|1|0|23|0|0|0|35,08 €|',\n",
       " '|1|0|4|0|0|0|6,58 €|',\n",
       " '|0|0|11|0|0|0|16,50 €|',\n",
       " '',\n",
       " '|Price for each Query in Euro:|Col2|Col3|Col4|Col5|Col6|',\n",
       " '|---|---|---|---|---|---|',\n",
       " '|0,58|0,70|1,50|0,50|0,80|1,80|',\n",
       " '',\n",
       " '',\n",
       " '-----',\n",
       " '',\n",
       " '']"
      ]
     },
     "execution_count": 28,
     "metadata": {},
     "output_type": "execute_result"
    }
   ],
   "source": [
    "md_text_list"
   ]
  },
  {
   "cell_type": "code",
   "execution_count": 29,
   "id": "f91ee6bf",
   "metadata": {},
   "outputs": [
    {
     "data": {
      "text/plain": [
       "5067"
      ]
     },
     "execution_count": 29,
     "metadata": {},
     "output_type": "execute_result"
    }
   ],
   "source": [
    "import pathlib\n",
    "pathlib.Path(\"output.md\").write_bytes(md_text.encode())"
   ]
  },
  {
   "cell_type": "code",
   "execution_count": 30,
   "id": "ed03f617",
   "metadata": {},
   "outputs": [
    {
     "name": "stdout",
     "output_type": "stream",
     "text": [
      "Invoice_reader.ipynb README.md            sample-invoice.pdf\r\n",
      "Makefile             output.md\r\n"
     ]
    }
   ],
   "source": [
    "!ls"
   ]
  },
  {
   "cell_type": "code",
   "execution_count": null,
   "id": "bc885fd3",
   "metadata": {},
   "outputs": [],
   "source": []
  }
 ],
 "metadata": {
  "kernelspec": {
   "display_name": "Python 3 (ipykernel)",
   "language": "python",
   "name": "python3"
  },
  "language_info": {
   "codemirror_mode": {
    "name": "ipython",
    "version": 3
   },
   "file_extension": ".py",
   "mimetype": "text/x-python",
   "name": "python",
   "nbconvert_exporter": "python",
   "pygments_lexer": "ipython3",
   "version": "3.10.6"
  },
  "toc": {
   "base_numbering": 1,
   "nav_menu": {},
   "number_sections": true,
   "sideBar": true,
   "skip_h1_title": false,
   "title_cell": "Table of Contents",
   "title_sidebar": "Contents",
   "toc_cell": false,
   "toc_position": {},
   "toc_section_display": true,
   "toc_window_display": false
  }
 },
 "nbformat": 4,
 "nbformat_minor": 5
}
